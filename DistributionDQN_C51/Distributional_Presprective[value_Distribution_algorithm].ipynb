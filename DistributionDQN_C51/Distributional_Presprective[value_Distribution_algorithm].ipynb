{
  "cells": [
    {
      "cell_type": "code",
      "execution_count": 1,
      "metadata": {
        "id": "_Wh-eYTTHd-i"
      },
      "outputs": [],
      "source": [
        "#import dependencies library\n",
        "# the enviornment library\n",
        "import gym\n",
        "\n",
        "#the AI framework \n",
        "import tensorflow as tf\n",
        "import tensorflow.keras as keras \n",
        "import numpy as np\n",
        "\n",
        "#just for ploting stuf\n",
        "import cv2\n",
        "import matplotlib.pyplot as plt\n",
        "import tqdm\n",
        "\n",
        "from collections import deque\n"
      ]
    },
    {
      "cell_type": "code",
      "source": [
        "!pip install atari-py"
      ],
      "metadata": {
        "colab": {
          "base_uri": "https://localhost:8080/"
        },
        "id": "MTk1tk_5IkvN",
        "outputId": "40212560-4807-43e9-b798-a4e783e47d35"
      },
      "execution_count": 4,
      "outputs": [
        {
          "output_type": "stream",
          "name": "stdout",
          "text": [
            "Requirement already satisfied: atari-py in /usr/local/lib/python3.7/dist-packages (0.2.9)\n",
            "Requirement already satisfied: six in /usr/local/lib/python3.7/dist-packages (from atari-py) (1.15.0)\n",
            "Requirement already satisfied: numpy in /usr/local/lib/python3.7/dist-packages (from atari-py) (1.21.6)\n"
          ]
        }
      ]
    },
    {
      "cell_type": "code",
      "source": [
        "import urllib.request\n",
        "urllib.request.urlretrieve('http://www.atarimania.com/roms/Roms.rar','Roms.rar')\n",
        "!pip install unrar\n",
        "!unrar x Roms.rar\n",
        "!mkdir rars\n",
        "!mv HC\\ ROMS   rars\n",
        "!mv ROMS  rars\n",
        "!python -m atari_py.import_roms rars"
      ],
      "metadata": {
        "id": "19hYGjPcHj6v"
      },
      "execution_count": null,
      "outputs": []
    },
    {
      "cell_type": "markdown",
      "metadata": {
        "id": "xU6lGp_qHd-w"
      },
      "source": [
        "After we import dependecies we will creat our enviornment using **gym** library and we chose the brakout game as the playground game to worke on."
      ]
    },
    {
      "cell_type": "code",
      "execution_count": 8,
      "metadata": {
        "id": "rd1mk7aJHd-1"
      },
      "outputs": [],
      "source": [
        "# make the environment we chose breakout game to try on.\n",
        "environment=gym.make(\"Breakout-v0\")"
      ]
    },
    {
      "cell_type": "markdown",
      "metadata": {
        "id": "X_b28QrMHd-3"
      },
      "source": [
        "lets explore the environment "
      ]
    },
    {
      "cell_type": "code",
      "execution_count": 9,
      "metadata": {
        "colab": {
          "base_uri": "https://localhost:8080/"
        },
        "id": "lQlImnNlHd-4",
        "outputId": "cb6a6484-2c8d-4b74-b613-1d7e356ac506"
      },
      "outputs": [
        {
          "output_type": "stream",
          "name": "stdout",
          "text": [
            "['NOOP', 'FIRE', 'RIGHT', 'LEFT']\n"
          ]
        }
      ],
      "source": [
        "print(environment.unwrapped.get_action_meanings())"
      ]
    },
    {
      "cell_type": "code",
      "execution_count": 10,
      "metadata": {
        "colab": {
          "base_uri": "https://localhost:8080/"
        },
        "id": "lefeLQgBHd-8",
        "outputId": "bc72aee8-ca10-48a6-dd6c-e970da888996"
      },
      "outputs": [
        {
          "output_type": "stream",
          "name": "stdout",
          "text": [
            "The number of action is :(4) and which is the number of output of Neural Network\n"
          ]
        }
      ],
      "source": [
        "# the actions space represent the output of the Neural Network \n",
        "action_space=environment.action_space.n\n",
        "print(\"The number of action is :({}) and which is the number of output of Neural Network\".format(action_space))"
      ]
    },
    {
      "cell_type": "code",
      "execution_count": 11,
      "metadata": {
        "colab": {
          "base_uri": "https://localhost:8080/",
          "height": 286
        },
        "id": "xYvVdWayHd--",
        "outputId": "5c83c76b-5dc0-487b-b363-a29729fcf09d"
      },
      "outputs": [
        {
          "output_type": "execute_result",
          "data": {
            "text/plain": [
              "<matplotlib.image.AxesImage at 0x7f798f884410>"
            ]
          },
          "metadata": {},
          "execution_count": 11
        },
        {
          "output_type": "display_data",
          "data": {
            "text/plain": [
              "<Figure size 432x288 with 1 Axes>"
            ],
            "image/png": "[encoded data removed]"
          },
          "metadata": {
            "needs_background": "light"
          }
        }
      ],
      "source": [
        "state=environment.reset()\n",
        "plt.imshow(state)"
      ]
    },
    {
      "cell_type": "markdown",
      "metadata": {
        "id": "w6PCjZXHHd_A"
      },
      "source": [
        "The First step is make some preprocessing to each frame, where want change the **RGB** format to **gray** fromat and that decrease the confusing in the network and we will cut the top of frame which represent the reword which change and may confuse the training process."
      ]
    },
    {
      "cell_type": "code",
      "execution_count": 12,
      "metadata": {
        "id": "j7MVnOE5Hd_C"
      },
      "outputs": [],
      "source": [
        "class FireResetEnv(gym.Wrapper):\n",
        "    \"\"\"\n",
        "    This class is Warpper where we make sure that the game is runing, becouse in some environment in gym library should \n",
        "    start the game by action \" 1 \" in most of the game so by doing this we make sure that the game is roling.\n",
        "    \"\"\"\n",
        "    def __init__(self, env=None):\n",
        "        super(FireResetEnv, self).__init__(env)\n",
        "        assert env.unwrapped.get_action_meanings()[1] == 'FIRE'\n",
        "        assert len(env.unwrapped.get_action_meanings()) >= 3\n",
        "        \n",
        "    def step(self, action):\n",
        "        return self.env.step(action)\n",
        "    \n",
        "    def reset(self):\n",
        "        self.env.reset()\n",
        "        obs, _, done, _ = self.env.step(1)\n",
        "        if done:\n",
        "            self.env.reset()\n",
        "            obs, _, done, _ = self.env.step(2)\n",
        "            if done:\n",
        "                self.env.reset()\n",
        "        return obs"
      ]
    },
    {
      "cell_type": "code",
      "source": [
        "env=FireResetEnv(environment)"
      ],
      "metadata": {
        "id": "rCAsIIV8Qyvr"
      },
      "execution_count": 52,
      "outputs": []
    },
    {
      "cell_type": "code",
      "execution_count": 13,
      "metadata": {
        "id": "u3LTCiChHd_c"
      },
      "outputs": [],
      "source": [
        "\n",
        "#The size of trainig example \n",
        "BATCH_SIZE=32\n",
        "\n",
        "# size of frame the input tensor to the model.\n",
        "WIDTH=84\n",
        "HIGHT=84\n",
        "CHANNELs=4\n",
        "\n",
        "# the Number of support in discrete distribution parameter \n",
        "ATOMS=51\n",
        "# the range that the support value derived from.\n",
        "VMIN=-10\n",
        "VMAX=10\n",
        "\n",
        "#numbe of action\n",
        "ACTIONS=4 #env.action_space.n\n",
        "\n",
        "# the step size between supports \n",
        "DELTA_Z=(VMAX-VMIN)/(ATOMS-1)\n",
        "\n",
        "# the distribuation parameter.\n",
        "Z=np.linspace(VMIN,VMAX,ATOMS,dtype=np.float32)"
      ]
    },
    {
      "cell_type": "code",
      "execution_count": 33,
      "metadata": {
        "id": "vGLKzkmgHd_f"
      },
      "outputs": [],
      "source": [
        "keras.backend.clear_session()\n",
        "\n",
        "class CategoricalDQN(keras.Model):\n",
        "    def __init__(self,output_dims,**kwargs):\n",
        "        super().__init__(**kwargs)\n",
        "        \n",
        "        #The conv layers in the model \n",
        "        self.conv=keras.Sequential([\n",
        "            keras.layers.Conv2D(32,8,strides=4,padding='valid',activation='relu'),\n",
        "            keras.layers.Conv2D(64,4,strides=2,padding='valid',activation='relu'),\n",
        "            keras.layers.Conv2D(64,3,strides=1,padding='valid',activation='relu'),\n",
        "            keras.layers.Flatten()\n",
        "        ])\n",
        "        \n",
        "        self.fc=keras.layers.Dense(512,activation='relu')\n",
        "        self.fc_output=keras.layers.Dense(output_dims)\n",
        "        \n",
        "        \n",
        "    def call(self,x):\n",
        "        #find the batch this important if we try to pass one example or more so the batch is not fixed.\n",
        "        batch_size=x.shape[0]\n",
        "        conv_out = self.conv(x)\n",
        "        fc_1 = self.fc(conv_out)\n",
        "        # the output is [batch_size,Action*AToms] if actions is 4 the the shape is [batch_size,204]\n",
        "        out = self.fc_output(fc_1)\n",
        "        \n",
        "        # the reshape step were we reshape the output \n",
        "        out = tf.reshape(out,[batch_size,-1,ATOMS])\n",
        "        # apply the softmax function to the distribuation \n",
        "        return keras.activations.softmax(out,axis=2)"
      ]
    },
    {
      "cell_type": "code",
      "execution_count": 57,
      "metadata": {
        "colab": {
          "base_uri": "https://localhost:8080/"
        },
        "id": "384Ysu2VHd_h",
        "outputId": "93aa19b3-11f9-4e81-cc32-25fa12521126"
      },
      "outputs": [
        {
          "output_type": "stream",
          "name": "stdout",
          "text": [
            "Model: \"categorical_dqn_1\"\n",
            "_________________________________________________________________\n",
            " Layer (type)                Output Shape              Param #   \n",
            "=================================================================\n",
            " sequential_1 (Sequential)   (32, 3136)                77984     \n",
            "                                                                 \n",
            " dense_2 (Dense)             multiple                  1606144   \n",
            "                                                                 \n",
            " dense_3 (Dense)             multiple                  104652    \n",
            "                                                                 \n",
            "=================================================================\n",
            "Total params: 1,788,780\n",
            "Trainable params: 1,788,780\n",
            "Non-trainable params: 0\n",
            "_________________________________________________________________\n"
          ]
        }
      ],
      "source": [
        "model=CategoricalDQN(ACTIONS*ATOMS)\n",
        "model_2=CategoricalDQN(ACTIONS*ATOMS)\n",
        "#this step is just to print the summary report \n",
        "model.build([BATCH_SIZE,WIDTH,HIGHT,CHANNELs])\n",
        "model_2.build([BATCH_SIZE,WIDTH,HIGHT,CHANNELs])\n",
        "model.summary()"
      ]
    },
    {
      "cell_type": "code",
      "execution_count": 35,
      "metadata": {
        "colab": {
          "base_uri": "https://localhost:8080/"
        },
        "id": "O4nd0qn0Hd_j",
        "outputId": "75cea910-d430-4fcf-b1d8-1c1757f4bbdb"
      },
      "outputs": [
        {
          "output_type": "stream",
          "name": "stdout",
          "text": [
            "The state shape :(32, 84, 84, 4) , The rewards shape is :(32,) , The dones shapes is : (32,) ,The actions shape is (32,)\n"
          ]
        }
      ],
      "source": [
        "# we creat toy data for depuging the code it's good practice to do.\n",
        "state=np.random.rand(BATCH_SIZE,WIDTH,HIGHT,CHANNELs)\n",
        "next_states=np.random.rand(BATCH_SIZE,WIDTH,HIGHT,CHANNELs)\n",
        "rewards=np.random.rand(BATCH_SIZE)\n",
        "dones=np.random.randint(0,2,size=BATCH_SIZE)\n",
        "actions=np.random.randint(0,4,size=BATCH_SIZE)\n",
        "print(\"The state shape :{} , The rewards shape is :{} , The dones shapes is : {} ,The actions shape is {}\".format(state.shape,rewards.shape,dones.shape,actions.shape))"
      ]
    },
    {
      "cell_type": "code",
      "execution_count": 36,
      "metadata": {
        "id": "7Waj79ngHd_l"
      },
      "outputs": [],
      "source": [
        "# The optimizer is Adam as it's less sensetive to the learning rate value. the step size still 0.00025\n",
        "optimizer=keras.optimizers.Adam(learning_rate=0.00025)"
      ]
    },
    {
      "cell_type": "code",
      "execution_count": 37,
      "metadata": {
        "id": "pKDKnDNpHd_n"
      },
      "outputs": [],
      "source": [
        "\n",
        "def _epsilon_greedy_policy(state,epsilon):\n",
        "        \"\"\"\n",
        "        Is the epislon greedy policy whre we use epsilon value to chose an action\n",
        "        where we want to palance the exploration and explotation as possiable as we can.\n",
        "    \n",
        "        we pick random value alpha.\n",
        "            -if alpha < epsilon : chose random action\n",
        "             else argmax Q(state) for all action.\n",
        "        parameter :\n",
        "            -state: is the current state.\n",
        "            -epsilon : is the value of threshould between [0,1]\n",
        "        return :\n",
        "            the number of action to make \n",
        "    \n",
        "        \"\"\"\n",
        "        if np.random.rand()<epsilon:\n",
        "            return np.random.randint(ACTIONS)\n",
        "        else:\n",
        "            # hear we use the online model for prediction of best action.\n",
        "            # hears the model output is the Distribuation over each actions, so to get the best action\n",
        "            # we will get the mean over each distribuation then pick the best actions \n",
        "            propapility_dist=model(state[np.newaxis])\n",
        "            Q_values=tf.reduce_sum(propapility_dist*Z,axis=2)\n",
        "            return tf.argmax(Q_values[0]).numpy()"
      ]
    },
    {
      "cell_type": "code",
      "execution_count": 38,
      "metadata": {
        "id": "7h6_migoHd_o"
      },
      "outputs": [],
      "source": [
        "cross_loss=keras.losses.kl_divergence?"
      ]
    },
    {
      "cell_type": "code",
      "execution_count": null,
      "metadata": {
        "id": "oMmJGN83Hd_p"
      },
      "outputs": [],
      "source": [
        "keras.losses.categorical_crossentropy?"
      ]
    },
    {
      "cell_type": "markdown",
      "metadata": {
        "id": "tKcBxm_eHd_q"
      },
      "source": [
        "now the **Categorical** algorithm as in paper **Bellemare etc 2017** this function find the action-value distribuation as we discribe a bove blease read the comment for better understanding."
      ]
    },
    {
      "cell_type": "code",
      "execution_count": 39,
      "metadata": {
        "id": "iAniL69JHd_r"
      },
      "outputs": [],
      "source": [
        "def distribution_projection(next_value_dist,rewards,gamma,dones):\n",
        "        batch_size=rewards.shape[0]\n",
        "        # in this line we calculate the next value return \n",
        "        T_Z=np.expand_dims(rewards,1)+ gamma*np.expand_dims((1-dones),1)*np.expand_dims(Z,0)\n",
        "        # clip the value in range [VMIN,VMAX]\n",
        "        clip_T_Z=np.clip(T_Z,VMIN,VMAX)\n",
        "        \n",
        "        # next return value postion  bj = (T_z - VMIN)/ Dz\n",
        "        value_dist_pos=(clip_T_Z-VMIN)/DELTA_Z\n",
        "        \n",
        "        # l= lower [bj] , u= upper [bj] \n",
        "        lower_bound=np.floor(value_dist_pos).astype(int)\n",
        "        upper_bound=np.ceil(value_dist_pos).astype(int)\n",
        "        \n",
        "        # this is the target distribuation  \n",
        "        target_distribuation = np.zeros((batch_size,ATOMS))\n",
        "        \n",
        "        for i in np.arange(batch_size):\n",
        "            for j in np.arange(ATOMS):\n",
        "                if lower_bound[i,j]==upper_bound[i,j]:\n",
        "                    target_distribuation[i,lower_bound[i,j]] += next_value_dist[i,j]\n",
        "                else:\n",
        "                    target_distribuation[i,lower_bound[i,j]]+=(next_value_dist[i,j]*(upper_bound-value_dist_pos)[i,j])\n",
        "                    target_distribuation[i,upper_bound[i,j]]+=(next_value_dist[i,j]*(value_dist_pos-lower_bound)[i,j])\n",
        "        return target_distribuation"
      ]
    },
    {
      "cell_type": "code",
      "execution_count": 40,
      "metadata": {
        "id": "CWORe1rnHd_s"
      },
      "outputs": [],
      "source": [
        "def training_step(gamma):\n",
        "        \"\"\"\n",
        "        This function is the responsible for doing one training step where we sample one batch from the replay buffer \n",
        "        then we push this batch in our model for forward step and apply gradiant with optimizer by hand.\n",
        "        \n",
        "        return :\n",
        "            None , where it's apply the change inplace for model parameter.\n",
        "        \"\"\"\n",
        "#       get the transition (xt,at,rt,donet,xt+1) , gamma_t in [0,1] \n",
        "#         states,actions,rewards,dones,next_states=sample_experiences()\n",
        "#       we add comment in the sample experiences just for testing as we mentioned before so \n",
        "#       so this function when we put in out agent return as befor.\n",
        "#       we need the batch size\n",
        "        batch_size=state.shape[0]\n",
        "        \n",
        "        # find the propability of the next state the output shape is [batch,action,atoms] and hear we use model in the agent we will use target model \n",
        "        # hear we calculate p(xt+1,a) but for the whole BATCH \n",
        "        next_value_dist=model(next_states) \n",
        "        \n",
        "        # this is the Q(Xt+1,a) = Sum_i (zi*pi(xt+1,a)) the shape is [Batch,Actions] this is the Q_value for all actions \n",
        "        next_Q_values=tf.reduce_sum(next_value_dist*Z,axis=2) \n",
        "        \n",
        "        # a* = argmax Q(xt+1,a) over a   the shape is [Batch , 1]\n",
        "        best_next_actions=tf.argmax(next_Q_values,axis=1).numpy()\n",
        "        \n",
        "        # find the action-value distribuation for just the best action pj(xt+1,a*)\n",
        "        next_value_dist=tf.stack([ next_value_dist[index,best_next_actions[index]] for index in np.arange(batch_size)]) # batch,ATOMS \n",
        "        \n",
        "        target_distribuation = distribution_projection(next_value_dist,rewards,gamma,dones)\n",
        "#         print(tf.reduce_sum(next_value_dist,axis=1).numpy())\n",
        "#         print(target_distribuation.sum(axis=1))\n",
        "        \n",
        "        with tf.GradientTape() as tape:\n",
        "            # compute the Q function for current state (hear for the whole batch).\n",
        "            all_value_dist=model(state)\n",
        "            # as befor find the value distribuation for the action we made \n",
        "            action_value_dist=tf.stack([ all_value_dist[index,actions[index]] for index in np.arange(batch_size)])\n",
        "            #computer the log for the propability distribuation for finding the loss \n",
        "            # log Pi(xt,at)\n",
        "            log_action_value=tf.math.log(action_value_dist)\n",
        "            # compute the loss using KLD \n",
        "            loss= tf.reduce_sum(-log_action_value*target_distribuation)\n",
        "            print(loss)\n",
        "        # compute the gradient for our  online_model parameter.\n",
        "        gradiants=tape.gradient(loss,model.trainable_variables)\n",
        "        # apply the optimization step using the gradient we compute for the online_model\n",
        "        optimizer.apply_gradients(zip(gradiants,model.trainable_variables))\n",
        "        return (target_distribuation,action_value_dist)"
      ]
    },
    {
      "cell_type": "code",
      "source": [
        "target,pred=None,None\n",
        "target,pred=training_step(0.9)\n"
      ],
      "metadata": {
        "colab": {
          "base_uri": "https://localhost:8080/"
        },
        "id": "I0KBVb9aKsV_",
        "outputId": "a1afc015-d81a-40ba-ec1f-c46fb86a713f"
      },
      "execution_count": 41,
      "outputs": [
        {
          "output_type": "stream",
          "name": "stdout",
          "text": [
            "tf.Tensor(125.67186, shape=(), dtype=float32)\n"
          ]
        }
      ]
    },
    {
      "cell_type": "code",
      "source": [
        "plt.plot((target[15]),color='red',label='target')\n",
        "plt.plot((pred.numpy()[15]),color='green',label='pred')\n",
        "plt.legend()\n",
        "plt.savefig(\"First_move.png\")"
      ],
      "metadata": {
        "colab": {
          "base_uri": "https://localhost:8080/",
          "height": 265
        },
        "id": "t93eCpuBKxmr",
        "outputId": "aec95147-390f-48e5-fe1b-52e51cec5a95"
      },
      "execution_count": 42,
      "outputs": [
        {
          "output_type": "display_data",
          "data": {
            "text/plain": [
              "<Figure size 432x288 with 1 Axes>"
            ],
            "image/png": "[encoded data removed]"
          },
          "metadata": {
            "needs_background": "light"
          }
        }
      ]
    },
    {
      "cell_type": "code",
      "execution_count": null,
      "metadata": {
        "id": "M_Z83kXJHd_u"
      },
      "outputs": [],
      "source": [
        "for i in range(200):\n",
        "    target,pred=training_step(0.9)\n"
      ]
    },
    {
      "cell_type": "code",
      "execution_count": 44,
      "metadata": {
        "colab": {
          "base_uri": "https://localhost:8080/",
          "height": 265
        },
        "id": "OiY4Y2SaHd_w",
        "outputId": "0ca6d6c4-8425-463a-d46f-b823e8d372cb"
      },
      "outputs": [
        {
          "output_type": "display_data",
          "data": {
            "text/plain": [
              "<Figure size 432x288 with 1 Axes>"
            ],
            "image/png": "[encoded data removed]"
          },
          "metadata": {
            "needs_background": "light"
          }
        }
      ],
      "source": [
        "plt.plot((target[15]),color='red',label='target')\n",
        "plt.plot((pred.numpy()[15]),color='green',label='pred')\n",
        "plt.legend()\n",
        "plt.savefig(\"last_move.png\")"
      ]
    },
    {
      "cell_type": "code",
      "execution_count": null,
      "metadata": {
        "id": "xTMoy3v-Hd_x",
        "outputId": "b17d1eb7-b682-4156-f2ab-ef713e8ae7e4"
      },
      "outputs": [
        {
          "data": {
            "text/plain": [
              "array([0.00048486, 0.00164331, 0.0007259 , 0.00109299, 0.00117237,\n",
              "       0.000491  , 0.00111796, 0.00300565, 0.00098123, 0.00197867,\n",
              "       0.00271171, 0.0016714 , 0.00290137, 0.00154731, 0.00216233,\n",
              "       0.00124292, 0.00182205, 0.00419685, 0.00187806, 0.00419077,\n",
              "       0.00251042, 0.00097648, 0.00387061, 0.0031114 , 0.00080369,\n",
              "       0.08834046, 0.17024238, 0.07587855, 0.11052132, 0.22123049,\n",
              "       0.11786267, 0.11456478, 0.01915019, 0.00205638, 0.00306321,\n",
              "       0.00259157, 0.00113591, 0.00168306, 0.00158307, 0.00153965,\n",
              "       0.00232866, 0.00150906, 0.00174798, 0.0051511 , 0.00175847,\n",
              "       0.00256628, 0.00083232, 0.00101314, 0.00119208, 0.0014637 ,\n",
              "       0.00070217], dtype=float32)"
            ]
          },
          "execution_count": 140,
          "metadata": {},
          "output_type": "execute_result"
        }
      ],
      "source": [
        "action_value_dist.numpy()[0]"
      ]
    },
    {
      "cell_type": "markdown",
      "metadata": {
        "id": "MR3H6xV8HeAB"
      },
      "source": [
        "Now we will put this functin back in Agent class."
      ]
    },
    {
      "cell_type": "code",
      "execution_count": 61,
      "metadata": {
        "id": "zu7QmqMjHeAC"
      },
      "outputs": [],
      "source": [
        "class Agent:\n",
        "    def __init__(self,environment,model,model_2,discount_factor=0.99,learning_rate=0.00025,episode=10000,batch_size=32,replay_size=1000000,staked_frame=4,fixed_epsilon=None,model_checkpoint='DQN_wights.h5',up=25,down=10,left=5,right=5,update_steps=50):\n",
        "        #the environment simulator \n",
        "        self.env=environment\n",
        "        # hear we made the first change where we have 2 model instead of one model the online_model and target_model \n",
        "        #  the first one it's using for compute Q_value function at each time step while the other to just compute the target.\n",
        "        self.online_model=model\n",
        "        # the second model is the target model have the same structure of the online model and the same inial parameter.\n",
        "        self.target_model=model_2\n",
        "        self.target_model.set_weights(model.get_weights())\n",
        "        # the discout factor in the Q-learning algorithem\n",
        "        self.discount_factor=discount_factor\n",
        "        # the number of episod to run as the number of epochs in supervised learning \n",
        "        self.episodes=episode\n",
        "        # onather update to the previouse alogorithem where we need parameter that difine the update rate for the target model.\n",
        "        self.update_rate=update_steps\n",
        "    \n",
        "        self.batch_size=batch_size\n",
        "        # the memory where we save the observations for training \n",
        "        self.replay_buffer=deque(maxlen=replay_size)\n",
        "        # the deque used for state creation where we stacked last 4 frames togather \n",
        "        self.stacked_blocks=deque(maxlen=staked_frame)\n",
        "        # if we want to stack more or less frame togather in other world if we want the state more complex or simpler.\n",
        "        self.stacked_size=staked_frame\n",
        "        # if we want the epsilon parameter constant during the training else the parameter will change during the training.\n",
        "        self.fixed_epsilon=fixed_epsilon\n",
        "        # the action space it's represent the number neuron in the output layer becouse Q function is maping from state to actions. \n",
        "        self.action_space=environment.action_space.n\n",
        "        # it's rewards list where we save the reward from each episod ( from each epochs )\n",
        "        self.rewards_list=[]\n",
        "        # the loss function using to compute the gradiant of the model is KLD not MSE and we compute manualy.\n",
        "        # self.loss_function=tf.losses.mean_squared_error\n",
        "#---->   the optimizer using to update the parameter is no longer RMSprop.\n",
        "        self.optimizer=tf.optimizers.Adam(learning_rate=learning_rate)\n",
        "        # it's the file path, where we save the model weights\n",
        "        self.model_checkpoint=model_checkpoint\n",
        "        # these four parameter we use for croping the edges of the frame  \n",
        "        self.up=up\n",
        "        self.down=-down\n",
        "        self.left=left\n",
        "        self.right=-right\n",
        "    \n",
        "    def _preprocess_frame(self,frame):\n",
        "        \"\"\"\n",
        "        this function make preprocessing step for each frame from the game.\n",
        "        parameter: \n",
        "            -frame: is a row frame with [210*64*3] size which provided by the environment, after we make an action that change the world\n",
        "            the environmnt brovide us by new observation after apply that action.\n",
        "        return :\n",
        "            image: processing frame where we cut some of border and keep the play area and change the image to gray scale \n",
        "            then resize it to [84,84] shape and finaly normalize pixel value to become in the range [0-1] \n",
        "        \"\"\"\n",
        "        # cut the porder and keep the play area\n",
        "        image=frame[self.up:self.down,self.left:self.right,:]\n",
        "        image=tf.image.rgb_to_grayscale(image)\n",
        "        image=tf.image.resize(image,[84,84])\n",
        "        # reshape becouse it's tensor [84,84,1] and we want [84,84] for make the stacking operation easy\n",
        "        image=tf.reshape(image,[84,84])\n",
        "        # normalizing step\n",
        "        image=image/255.0\n",
        "        return image\n",
        "    \n",
        "    def ploting_function_one(frame):\n",
        "        \"\"\"\n",
        "        is the same as preprocessing function but we use it for viualization stuf.\n",
        "        \"\"\"\n",
        "        image=frame[25:,:,:]\n",
        "        image=cv2.cvtColor(image,cv2.COLOR_RGB2GRAY)\n",
        "        image=cv2.resize(image,(85,85))\n",
        "        return image\n",
        "    \n",
        "    \n",
        "    def _state_creator(self,frame,is_new_episod):\n",
        "        \"\"\"\n",
        "        this function we stack last 4 frame togather to perform on state and that give us some intuition about vilocity.\n",
        "        parameter :\n",
        "            -frame :which is the game observation.\n",
        "            -is_new_episod: boolean parameter that check if there is no previous frame and that happend in bragning of each episod.\n",
        "        \n",
        "        return :\n",
        "            state: tensor with [84,84,4] shape which represent the state of our world.\n",
        "        \"\"\"\n",
        "        # first preprocessing the frame.\n",
        "        image=self._preprocess_frame(frame)\n",
        "        # if it's new episod then stack the first frame four time \n",
        "        if is_new_episod:\n",
        "            for i in range(self.stacked_size):\n",
        "                self.stacked_blocks.append(image)\n",
        "                \n",
        "        # just push the last frame so the first frame get out from the deque\n",
        "        else:\n",
        "            self.stacked_blocks.append(image)\n",
        "            \n",
        "        # stacked the frames togather in one tensor [84,84,4]\n",
        "        state=tf.stack(self.stacked_blocks,axis=2)\n",
        "        \n",
        "        return state\n",
        "    \n",
        "    def _sample_experiences(self):\n",
        "        \"\"\"\n",
        "        This function is use to sample batch from our memory.\n",
        "        \n",
        "        return:\n",
        "            -states:it's tensore [batch_size,image_width,image_height,stacked_size] in our case [32,84,84,4]\n",
        "            -actions: it's 2D array [batch_size,action] it's the action in each state in our batch\n",
        "            -rewards: it's 2D array [batch_size,reward] it's the reward in each state in out batch\n",
        "            -dones : it's 2D array [batch_size, done ] where done is boolean value help us to compute the target.\n",
        "            -next_state: it's tensore [batch_size,image_width,image_height,stacked_size] in our case [32,84,84,4]\n",
        "        \"\"\"\n",
        "        # radnom indices from the replay buffer\n",
        "        indices=np.random.randint(len(self.replay_buffer),size=self.batch_size)\n",
        "        batch=[self.replay_buffer[index] for index in indices]\n",
        "        # we combine the experiance togather where the buffer have tuple like this (state,action,reward,done,next_state)\n",
        "        states,actions,rewords,dones,next_states=[np.array([experiance[field_index] for experiance in batch]) for field_index in range(5)]\n",
        "        return states,actions,rewords,dones,next_states\n",
        "    \n",
        "    \n",
        "    \n",
        "    def _epsilon_greedy_policy(self,state,epsilon):\n",
        "        \"\"\"\n",
        "        Is the epislon greedy policy whre we use epsilon value to chose an action\n",
        "        where we want to palance the exploration and explotation as possiable as we can.\n",
        "    \n",
        "        we pick random value alpha.\n",
        "            -if alpha < epsilon : chose random action\n",
        "             else argmax Q(state) for all action.\n",
        "        parameter :\n",
        "            -state: is the current state.\n",
        "            -epsilon : is the value of threshould between [0,1]\n",
        "        return :\n",
        "            the number of action to make \n",
        "    \n",
        "        \"\"\"\n",
        "        if np.random.rand()<epsilon:\n",
        "            return np.random.randint(self.action_space)\n",
        "        else:\n",
        "            # hear we use the online model for prediction of best action.\n",
        "            # hears the model output is the Distribuation over each actions, so to get the best action\n",
        "            # we will get the mean over each distribuation then pick the best actions \n",
        "            propapility_dist=self.online_model(state[np.newaxis])\n",
        "            Q_values=tf.reduce_sum(propapility_dist*Z,axis=2)\n",
        "            return tf.argmax(Q_values[0]).numpy()\n",
        "    \n",
        "    def _play_one_step(self,state,epsilon):      \n",
        "      action=self._epsilon_greedy_policy(state,epsilon)\n",
        "      next_state,reward,done,info=self.env.step(action)\n",
        "      # we do that becouse we need True done value for computing the target for the model.\n",
        "      if info['ale.lives']< 5:\n",
        "          done=True\n",
        "      stacked_next_state=self._state_creator(next_state,False)\n",
        "      self.replay_buffer.append((state,action,reward,done,stacked_next_state))\n",
        "      return stacked_next_state,reward,done,info\n",
        "    \n",
        "    def _training_step(self):\n",
        "        \"\"\"\n",
        "        This function is the responsible for doing one training step where we sample one batch from the replay buffer \n",
        "        then we push this batch in our model for forward step and apply gradiant with optimizer by hand.\n",
        "        \n",
        "        return :\n",
        "            None , where it's apply the change inplace for model parameter.\n",
        "        \"\"\"\n",
        "        # get the transition (xt,at,rt,donet,xt+1) , gamma_t in [0,1] \n",
        "        states,actions,rewards,dones,next_states=self._sample_experiences()\n",
        "        # we need the batch size\n",
        "        batch_size=state.shape[0]\n",
        "        # find the propability of the next state the output shape is [batch,action,atoms] and hear we use model in the agent we will use target model \n",
        "        # hear we calculate p(xt+1,a) but for the whole BATCH \n",
        "        next_value_dist=self.target_model(next_states) \n",
        "        # this is the Q(Xt+1,a) = Sum_i (zi*pi(xt+1,a)) the shape is [Batch,Actions] this is the Q_value for all actions \n",
        "        next_Q_values=tf.reduce_sum(next_value_dist*Z,axis=2) \n",
        "        # a* = argmax Q(xt+1,a) over a   the shape is [Batch , 1]\n",
        "        best_next_actions=tf.argmax(next_Q_values,axis=1).numpy()\n",
        "        # find the action-value distribuation for just the best action pj(xt+1,a*)\n",
        "        next_value_dist=tf.stack([ next_value_dist[index,best_next_actions[index]] for index in np.arange(batch_size)]) # batch,ATOMS \n",
        "        # in this line we calculate the next value return [rt + gamma_t * zj ]\n",
        "        T_Z=np.expand_dims(rewards,1)+ self.discount_factor * np.expand_dims((1-dones),1)*np.expand_dims(Z,0)\n",
        "        # clip the value in range [VMIN,VMAX]\n",
        "        clip_T_Z=np.clip(T_Z,VMIN,VMAX)\n",
        "        # next return value postion  bj = (T_z - VMIN)/ Dz\n",
        "        value_dist_pos=(clip_T_Z-VMIN)/DELTA_Z\n",
        "        \n",
        "        # l= lower [bj] , u= upper [bj] \n",
        "        lower_bound=np.floor(value_dist_pos).astype(int)\n",
        "        upper_bound=np.ceil(value_dist_pos).astype(int)\n",
        "        \n",
        "        # this is the target distribuation  \n",
        "        target_distribuation = np.zeros((batch_size,ATOMS))\n",
        "        \n",
        "        for i in np.arange(batch_size):\n",
        "            for j in np.arange(ATOMS):\n",
        "                target_distribuation[i,lower_bound[i,j]]+=(next_value_dist[i,j]*(value_dist_pos-lower_bound)[i,j])\n",
        "                target_distribuation[i,upper_bound[i,j]]+=(next_value_dist[i,j]*(upper_bound-value_dist_pos)[i,j])\n",
        "        \n",
        "        with tf.GradientTape() as tape:\n",
        "            # compute the Q function for current state (hear for the whole batch).\n",
        "            all_value_dist=self.online_model(state)\n",
        "            # as befor find the value distribuation for the action we made \n",
        "            action_value_dist=tf.stack([ all_value_dist[index,actions[index]] for index in np.arange(batch_size)])\n",
        "            #computer the log for the propability distribuation for finding the loss \n",
        "            # log Pi(xt,at)\n",
        "            log_action_value=tf.math.log(action_value_dist)\n",
        "            # compute the loss using KLD \n",
        "            loss= tf.reduce_sum(-log_action_value*target_distribuation)\n",
        "        # compute the gradient for our  online_model parameter.\n",
        "        gradiants=tape.gradient(loss,model.trainable_variables)\n",
        "        # apply the optimization step using the gradient we compute for the online_model\n",
        "        optimizer.apply_gradients(zip(gradiants,model.trainable_variables))\n",
        "        \n",
        "    def fit(self):\n",
        "        \"\"\"\n",
        "        This function represent the training loop function where we are trying to fit model to produce the best function\n",
        "        according to the data we have.\n",
        "        \n",
        "        \"\"\"\n",
        "        for episode in tqdm.tqdm(range(self.episodes)):\n",
        "            state=self.env.reset()\n",
        "            stacked_state=self._state_creator(state,True)\n",
        "            rewards=0\n",
        "            epsilon=max(1-episode/7000,0.01)\n",
        "            while True:\n",
        "                stacked_state,reward,done,info=self._play_one_step(stacked_state,epsilon)\n",
        "                rewards+=reward\n",
        "                if done :\n",
        "                    if not (episode%10) and len(self.rewards_list):\n",
        "                        self.online_model.save_weights(self.model_checkpoint)\n",
        "                        print(\"The best score for last 10 episode is: {} and the worst one is: {}\".format(max(self.rewards_list[-10:]),min(self.rewards_list[-10:])))\n",
        "                    self.rewards_list.append(rewards)\n",
        "                    break\n",
        "                # this step to let the replay buffer has some experiance\n",
        "                if episode>50:\n",
        "                    self._training_step()\n",
        "                #hear where update the target model after 50 episod by set the parameter as online model.\n",
        "                if episode%self.update_rate:\n",
        "                    self.target_model.set_weights(self.online_model.get_weights())"
      ]
    },
    {
      "cell_type": "code",
      "source": [
        "agent = Agent(env,model,model_2)"
      ],
      "metadata": {
        "id": "xGtCPND6P0KI"
      },
      "execution_count": 62,
      "outputs": []
    },
    {
      "cell_type": "code",
      "source": [
        "agent.fit()"
      ],
      "metadata": {
        "id": "lH8fZcwfQi6Z"
      },
      "execution_count": null,
      "outputs": []
    },
    {
      "cell_type": "code",
      "source": [
        ""
      ],
      "metadata": {
        "id": "TBWnJboVRgHE"
      },
      "execution_count": null,
      "outputs": []
    }
  ],
  "metadata": {
    "kernelspec": {
      "display_name": "Python 3",
      "language": "python",
      "name": "python3"
    },
    "language_info": {
      "codemirror_mode": {
        "name": "ipython",
        "version": 3
      },
      "file_extension": ".py",
      "mimetype": "text/x-python",
      "name": "python",
      "nbconvert_exporter": "python",
      "pygments_lexer": "ipython3",
      "version": "3.9.2"
    },
    "colab": {
      "name": "Distributional_Presprective[value_Distribution_algorithm].ipynb",
      "provenance": []
    }
  },
  "nbformat": 4,
  "nbformat_minor": 0
}