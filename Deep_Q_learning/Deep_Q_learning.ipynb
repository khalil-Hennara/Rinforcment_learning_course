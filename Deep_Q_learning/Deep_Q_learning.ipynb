{
 "cells": [
  {
   "cell_type": "code",
   "execution_count": 1,
   "metadata": {},
   "outputs": [],
   "source": [
    "import numpy as np\n",
    "import tensorflow as tf\n",
    "import tensorflow.keras as keras\n",
    "import gym\n",
    "from tqdm import tqdm\n",
    "import matplotlib.pyplot as plt\n",
    "from collections import deque"
   ]
  },
  {
   "cell_type": "code",
   "execution_count": 2,
   "metadata": {},
   "outputs": [],
   "source": [
    "env=gym.make('Breakout-v0')"
   ]
  },
  {
   "cell_type": "code",
   "execution_count": 3,
   "metadata": {},
   "outputs": [],
   "source": [
    "obs=env.reset()"
   ]
  },
  {
   "cell_type": "code",
   "execution_count": 4,
   "metadata": {},
   "outputs": [
    {
     "data": {
      "text/plain": [
       "<matplotlib.image.AxesImage at 0x7fb3383e5128>"
      ]
     },
     "execution_count": 4,
     "metadata": {},
     "output_type": "execute_result"
    },
    {
     "data": {
      "image/png": "[encoded data removed]",
      "text/plain": [
       "<Figure size 432x288 with 1 Axes>"
      ]
     },
     "metadata": {
      "needs_background": "light"
     },
     "output_type": "display_data"
    }
   ],
   "source": [
    "plt.imshow(obs)"
   ]
  },
  {
   "cell_type": "code",
   "execution_count": 5,
   "metadata": {},
   "outputs": [],
   "source": [
    "import cv2 as cv"
   ]
  },
  {
   "cell_type": "code",
   "execution_count": 6,
   "metadata": {},
   "outputs": [],
   "source": [
    "stacked_frames=deque(maxlen=4)"
   ]
  },
  {
   "cell_type": "code",
   "execution_count": 7,
   "metadata": {},
   "outputs": [],
   "source": [
    "def preprocess_frame(frame):\n",
    "    frame=frame[30:,:,:] #we cut the top of the frame to a void Misleading decision of the model.\n",
    "    frame=cv.cvtColor(frame,cv.COLOR_RGB2GRAY)\n",
    "    frame=frame/255.0\n",
    "    return frame\n",
    "\n",
    "def stack_frames(frame,done):\n",
    "    \"\"\"\n",
    "    this stacks each 4 frame togother to recognise the movement in the frame\n",
    "    this is technique use in alot of deep learning problem.\n",
    "    \n",
    "    \"\"\"\n",
    "    frame=preprocess_frame(frame)  \n",
    "    if done:\n",
    "        for i in range(4):\n",
    "            stacked_frames.append(frame)\n",
    "    stacked_frames.append(frame)\n",
    "    input_stacks=np.stack(stacked_frames,axis=2)\n",
    "    return input_stacks"
   ]
  },
  {
   "cell_type": "code",
   "execution_count": 8,
   "metadata": {},
   "outputs": [],
   "source": [
    "input_shape=[180,160,4]\n",
    "output_shape= env.action_space.n\n",
    "epochs=1000\n",
    "n_steps=200\n",
    "batch_size=64\n",
    "buffer_size=10000\n",
    "gamma=0.95\n",
    "epsilon=1"
   ]
  },
  {
   "cell_type": "code",
   "execution_count": 9,
   "metadata": {},
   "outputs": [
    {
     "name": "stdout",
     "output_type": "stream",
     "text": [
      "Model: \"sequential\"\n",
      "_________________________________________________________________\n",
      "Layer (type)                 Output Shape              Param #   \n",
      "=================================================================\n",
      "conv2d (Conv2D)              (None, 180, 160, 32)      28832     \n",
      "_________________________________________________________________\n",
      "max_pooling2d (MaxPooling2D) (None, 90, 80, 32)        0         \n",
      "_________________________________________________________________\n",
      "dropout (Dropout)            (None, 90, 80, 32)        0         \n",
      "_________________________________________________________________\n",
      "conv2d_1 (Conv2D)            (None, 90, 80, 64)        51264     \n",
      "_________________________________________________________________\n",
      "max_pooling2d_1 (MaxPooling2 (None, 45, 40, 64)        0         \n",
      "_________________________________________________________________\n",
      "dropout_1 (Dropout)          (None, 45, 40, 64)        0         \n",
      "_________________________________________________________________\n",
      "conv2d_2 (Conv2D)            (None, 45, 40, 128)       73856     \n",
      "_________________________________________________________________\n",
      "max_pooling2d_2 (MaxPooling2 (None, 22, 20, 128)       0         \n",
      "_________________________________________________________________\n",
      "dropout_2 (Dropout)          (None, 22, 20, 128)       0         \n",
      "_________________________________________________________________\n",
      "flatten (Flatten)            (None, 56320)             0         \n",
      "_________________________________________________________________\n",
      "dense (Dense)                (None, 32)                1802272   \n",
      "_________________________________________________________________\n",
      "dense_1 (Dense)              (None, 4)                 132       \n",
      "=================================================================\n",
      "Total params: 1,956,356\n",
      "Trainable params: 1,956,356\n",
      "Non-trainable params: 0\n",
      "_________________________________________________________________\n"
     ]
    }
   ],
   "source": [
    "keras.backend.clear_session()\n",
    "model=keras.models.Sequential([\n",
    "    keras.layers.Conv2D(32,15,activation='elu',padding='same',input_shape=input_shape),\n",
    "    keras.layers.MaxPooling2D(2),\n",
    "    keras.layers.Dropout(0.2),\n",
    "    \n",
    "    keras.layers.Conv2D(64,5,activation='elu',padding='same'),\n",
    "    keras.layers.MaxPooling2D(2),\n",
    "    keras.layers.Dropout(0.2),\n",
    "    \n",
    "    keras.layers.Conv2D(128,3,activation='elu',padding='same'),\n",
    "    keras.layers.MaxPooling2D(2),\n",
    "    keras.layers.Dropout(0.2),\n",
    "    keras.layers.Flatten(),\n",
    "    keras.layers.Dense(32,activation='relu'),\n",
    "    keras.layers.Dense(output_shape)\n",
    "])\n",
    "model.summary()"
   ]
  },
  {
   "cell_type": "code",
   "execution_count": 10,
   "metadata": {},
   "outputs": [],
   "source": [
    "replay_buffer=deque(maxlen=buffer_size)"
   ]
  },
  {
   "cell_type": "code",
   "execution_count": 11,
   "metadata": {},
   "outputs": [],
   "source": [
    "def epsilon_greedy_policy(state,epsilon):\n",
    "    if np.random.rand()<epsilon:\n",
    "        return np.random.randint(0,4)\n",
    "    else:\n",
    "        Q_value=model.predict(state[np.newaxis])\n",
    "        return np.argmax(Q_value[0])"
   ]
  },
  {
   "cell_type": "code",
   "execution_count": 12,
   "metadata": {},
   "outputs": [],
   "source": [
    "def sample_experiance(batch_size):\n",
    "    index=np.random.randint(len(replay_buffer),size=batch_size)\n",
    "    batch=[replay_buffer[i] for i in index]\n",
    "    states,actions,rewards,next_states,dones=[np.array([experience[field_index] for experience in batch]) for field_index in range(5)]\n",
    "    return states,actions,rewards,next_states,dones"
   ]
  },
  {
   "cell_type": "code",
   "execution_count": 13,
   "metadata": {},
   "outputs": [],
   "source": [
    "def play_one_step(env,state,epsilon):\n",
    "    action=epsilon_greedy_policy(state,epsilon)\n",
    "    next_state,reward,done,info=env.step(action)\n",
    "    next_state=stack_frames(next_state,done)\n",
    "    replay_buffer.append((state,action,reward,next_state,done))\n",
    "    return next_state,reward,done,info"
   ]
  },
  {
   "cell_type": "code",
   "execution_count": 14,
   "metadata": {},
   "outputs": [],
   "source": [
    "optimizer = keras.optimizers.Adam(lr=1e-3)\n",
    "loss_fn = keras.losses.mean_squared_error"
   ]
  },
  {
   "cell_type": "code",
   "execution_count": 15,
   "metadata": {},
   "outputs": [],
   "source": [
    "def training_step():\n",
    "    states,actions,rewards,next_states,dones=sample_experiance(batch_size)\n",
    "    next_Q_value=model.predict(next_states)\n",
    "    max_next_Q_value=np.max(next_Q_value,axis=1)\n",
    "    target_Q_value=(rewards+(1-dones)*gamma*max_next_Q_value)\n",
    "    \n",
    "    mask=tf.one_hot(actions,output_shape)\n",
    "    \n",
    "    with tf.GradientTape() as tape:\n",
    "        all_Q_value=model(states)\n",
    "        Q_value=tf.reduce_sum(all_Q_value*mask,axis=1,keepdims=True)\n",
    "        loss=tf.reduce_mean(loss_fn(Q_value,target_Q_value))\n",
    "    grads=tape.gradient(loss,model.trainable_variables)\n",
    "    optimizer.apply_gradients(zip(grads,model.trainable_variables))"
   ]
  },
  {
   "cell_type": "code",
   "execution_count": 16,
   "metadata": {},
   "outputs": [],
   "source": [
    "def trainig_loop(env):\n",
    "    for episode in tqdm(range(1,epochs)):\n",
    "        state=env.reset()\n",
    "        state=stack_frames(state,True)\n",
    "        for step in range(n_steps):\n",
    "            epsilon=max(1 - episode / 500, 0.1)\n",
    "            next_state,reward,done,info=play_one_step(env,state,epsilon)\n",
    "            if done:\n",
    "                break\n",
    "        if episode>20:\n",
    "            training_step()"
   ]
  },
  {
   "cell_type": "code",
   "execution_count": null,
   "metadata": {},
   "outputs": [
    {
     "name": "stderr",
     "output_type": "stream",
     "text": [
      "  2%|▏         | 20/999 [00:25<27:44,  1.70s/it]"
     ]
    },
    {
     "name": "stdout",
     "output_type": "stream",
     "text": [
      "WARNING:tensorflow:Layer conv2d is casting an input tensor from dtype float64 to the layer's dtype of float32, which is new behavior in TensorFlow 2.  The layer has dtype float32 because it's dtype defaults to floatx.\n",
      "\n",
      "If you intended to run this layer in float32, you can safely ignore this warning. If in doubt, this warning is likely only an issue if you are porting a TensorFlow 1.X model to TensorFlow 2.\n",
      "\n",
      "To change all layers to have dtype float64 by default, call `tf.keras.backend.set_floatx('float64')`. To change just this layer, pass dtype='float64' to the layer constructor. If you are the author of this layer, you can disable autocasting by passing autocast=False to the base Layer constructor.\n",
      "\n"
     ]
    }
   ],
   "source": [
    "trainig_loop(env)"
   ]
  },
  {
   "cell_type": "code",
   "execution_count": null,
   "metadata": {},
   "outputs": [],
   "source": []
  }
 ],
 "metadata": {
  "kernelspec": {
   "display_name": "Python 3",
   "language": "python",
   "name": "python3"
  },
  "language_info": {
   "codemirror_mode": {
    "name": "ipython",
    "version": 3
   },
   "file_extension": ".py",
   "mimetype": "text/x-python",
   "name": "python",
   "nbconvert_exporter": "python",
   "pygments_lexer": "ipython3",
   "version": "3.9.2"
  }
 },
 "nbformat": 4,
 "nbformat_minor": 2
}
