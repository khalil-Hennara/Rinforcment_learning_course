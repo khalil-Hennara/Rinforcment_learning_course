{
 "cells": [
  {
   "cell_type": "code",
   "execution_count": 30,
   "metadata": {},
   "outputs": [],
   "source": [
    "#import dependencies library\n",
    "\n",
    "# the enviornment library\n",
    "import gym\n",
    "\n",
    "#the AI framework \n",
    "import tensorflow as tf\n",
    "import tensorflow.keras as keras \n",
    "import numpy as np\n",
    "\n",
    "#just for ploting stuf\n",
    "import cv2\n",
    "import matplotlib.pyplot as plt\n",
    "import tqdm\n",
    "\n",
    "from collections import deque"
   ]
  },
  {
   "cell_type": "markdown",
   "metadata": {},
   "source": [
    "After we import dependecies we will creat our enviornment using **gym** library and we chose the brakout game as the playground game to worke on."
   ]
  },
  {
   "cell_type": "code",
   "execution_count": 2,
   "metadata": {},
   "outputs": [],
   "source": [
    "# make the environment we chose breakout game to try on.\n",
    "environment=gym.make(\"Breakout-v4\")"
   ]
  },
  {
   "cell_type": "markdown",
   "metadata": {},
   "source": [
    "lets explore the environment "
   ]
  },
  {
   "cell_type": "code",
   "execution_count": 5,
   "metadata": {},
   "outputs": [
    {
     "name": "stdout",
     "output_type": "stream",
     "text": [
      "['NOOP', 'FIRE', 'RIGHT', 'LEFT']\n"
     ]
    }
   ],
   "source": [
    "print(environment.unwrapped.get_action_meanings())"
   ]
  },
  {
   "cell_type": "code",
   "execution_count": 3,
   "metadata": {},
   "outputs": [
    {
     "name": "stdout",
     "output_type": "stream",
     "text": [
      "The number of action is :(4) and which is the number of output of Neural Network\n"
     ]
    }
   ],
   "source": [
    "# the actions space represent the output of the Neural Network \n",
    "action_space=environment.action_space.n\n",
    "print(\"The number of action is :({}) and which is the number of output of Neural Network\".format(action_space))"
   ]
  },
  {
   "cell_type": "code",
   "execution_count": 5,
   "metadata": {},
   "outputs": [
    {
     "data": {
      "text/plain": [
       "<matplotlib.image.AxesImage at 0x7f9d471c3940>"
      ]
     },
     "execution_count": 5,
     "metadata": {},
     "output_type": "execute_result"
    },
    {
     "data": {
      "image/png": "[encoded data removed]",
      "text/plain": [
       "<Figure size 432x288 with 1 Axes>"
      ]
     },
     "metadata": {
      "needs_background": "light"
     },
     "output_type": "display_data"
    }
   ],
   "source": [
    "state=environment.reset()\n",
    "plt.imshow(state)"
   ]
  },
  {
   "cell_type": "markdown",
   "metadata": {},
   "source": [
    "The First step is make some preprocessing to each frame, where want change the **RGB** format to **gray** fromat and that decrease the confusing in the network and we will cut the top of frame which represent the reword which change and may confuse the training process."
   ]
  },
  {
   "cell_type": "code",
   "execution_count": 31,
   "metadata": {},
   "outputs": [],
   "source": [
    "def preprocess_frame(frame):\n",
    "    \"\"\"\n",
    "    this function make preprocessing step for each frame from the game.\n",
    "    parameter: \n",
    "        -frame: is a row frame with [210*64*3] size which provided by the environment, after we make an action that change the world\n",
    "        the environmnt brovide us by new observation after apply that action.\n",
    "    return :\n",
    "        image: processing frame where we cut some of border and keep the play area and change the image to gray scale \n",
    "        then resize it to [84,84] shape and finaly normalize pixel value to become in the range [0-1] \n",
    "    \"\"\"\n",
    "    image=frame[25:-10,5:-5,:]\n",
    "    image=tf.image.rgb_to_grayscale(image)\n",
    "    image=tf.image.resize(image,[84,84])\n",
    "    image=tf.reshape(image,[84,84])\n",
    "    image=image/255.0\n",
    "    return image\n",
    "\n",
    "def ploting_function_one(frame):\n",
    "    \"\"\"\n",
    "    is the same as preprocessing function but we use it for viualization stuf.\n",
    "    \"\"\"\n",
    "    image=frame[25:,:,:]\n",
    "    image=cv2.cvtColor(image,cv2.COLOR_RGB2GRAY)\n",
    "    image=cv2.resize(image,(84,84))\n",
    "    return image"
   ]
  },
  {
   "cell_type": "code",
   "execution_count": 2,
   "metadata": {},
   "outputs": [],
   "source": [
    "class FireResetEnv(gym.Wrapper):\n",
    "    \"\"\"\n",
    "    This class is Warpper where we make sure that the game is runing, becouse in some environment in gym library should \n",
    "    start the game by action \" 1 \" in most of the game so by doing this we make sure that the game is roling.\n",
    "    \"\"\"\n",
    "    def __init__(self, env=None):\n",
    "        super(FireResetEnv, self).__init__(env)\n",
    "        assert env.unwrapped.get_action_meanings()[1] == 'FIRE'\n",
    "        assert len(env.unwrapped.get_action_meanings()) >= 3\n",
    "        \n",
    "    def step(self, action):\n",
    "        return self.env.step(action)\n",
    "    \n",
    "    def reset(self):\n",
    "        self.env.reset()\n",
    "        obs, _, done, _ = self.env.step(1)\n",
    "        if done:\n",
    "            self.env.reset()\n",
    "            obs, _, done, _ = self.env.step(2)\n",
    "            if done:\n",
    "                self.env.reset()\n",
    "        return obs"
   ]
  },
  {
   "cell_type": "code",
   "execution_count": null,
   "metadata": {},
   "outputs": [],
   "source": [
    "environment=FireResetEnv(environment)"
   ]
  },
  {
   "cell_type": "markdown",
   "metadata": {},
   "source": [
    "The above cell containe two preprocessing function one for visulisation becoues we can't plot tensor from tesorflow"
   ]
  },
  {
   "cell_type": "code",
   "execution_count": 100,
   "metadata": {},
   "outputs": [
    {
     "data": {
      "text/plain": [
       "<matplotlib.image.AxesImage at 0x7f36b871ca20>"
      ]
     },
     "execution_count": 100,
     "metadata": {},
     "output_type": "execute_result"
    },
    {
     "data": {
      "image/png": "[encoded data removed]",
      "text/plain": [
       "<Figure size 432x288 with 1 Axes>"
      ]
     },
     "metadata": {
      "needs_background": "light"
     },
     "output_type": "display_data"
    }
   ],
   "source": [
    "image=ploting_function_one(state)\n",
    "plt.imshow(image,cmap='binary')"
   ]
  },
  {
   "cell_type": "markdown",
   "metadata": {},
   "source": [
    "now after we processing the frame we need to stack some frames togather to represent a one state so by using that we can give some information about vilocity."
   ]
  },
  {
   "cell_type": "markdown",
   "metadata": {},
   "source": [
    "first leats creat queue with fixed size 4 so after each move we push the frame to the queue and the stack them togather to represent on 3D block the represent the state."
   ]
  },
  {
   "cell_type": "code",
   "execution_count": 7,
   "metadata": {},
   "outputs": [],
   "source": [
    "from collections import deque"
   ]
  },
  {
   "cell_type": "code",
   "execution_count": 8,
   "metadata": {},
   "outputs": [],
   "source": [
    "stacked_blocks=deque(maxlen=4)"
   ]
  },
  {
   "cell_type": "code",
   "execution_count": 32,
   "metadata": {},
   "outputs": [],
   "source": [
    "def state_creator(frame,is_new_episod,stacked_blocks,number_of_frame=4):\n",
    "    \"\"\"\n",
    "    in this function we stack last 4 frame togather to perform on state and that give us some intuition about vilocity.\n",
    "    parameter :\n",
    "        -frame :which is the game observation.\n",
    "        -is_new_episod: boolean parameter that check if there is no previous frame and that happend in bragning of each episod.\n",
    "        -stacked_blocks: is deque with maxlength 4 that save the last 4 frame for us.\n",
    "        -number_of_frame: is by default 4 but we can change it to other number and that make our state more complex.\n",
    "    return :\n",
    "        state: tensor with [84,84,4] shape which represent the state of our world.\n",
    "    \"\"\"\n",
    "    if is_new_episod:\n",
    "        image=preprocess_frame(frame)\n",
    "        for i in range(number_of_frame):\n",
    "            stacked_blocks.append(image)\n",
    "    else:\n",
    "        image=preprocess_frame(frame)\n",
    "        stacked_blocks.append(image)\n",
    "    state=tf.stack(stacked_blocks,axis=2)\n",
    "    return state"
   ]
  },
  {
   "cell_type": "code",
   "execution_count": 33,
   "metadata": {},
   "outputs": [
    {
     "name": "stdout",
     "output_type": "stream",
     "text": [
      "The shape of the frames which is stack togather is : (85, 85, 4)\n"
     ]
    }
   ],
   "source": [
    "new_state=state_creator(state,True,stacked_blocks)\n",
    "print(\"The shape of the frames which is stack togather is : {}\".format(new_state.shape))"
   ]
  },
  {
   "cell_type": "markdown",
   "metadata": {},
   "source": [
    "Now lets build the model which is convulational Neural Network that contains just 2 layers "
   ]
  },
  {
   "cell_type": "code",
   "execution_count": 12,
   "metadata": {},
   "outputs": [
    {
     "name": "stdout",
     "output_type": "stream",
     "text": [
      "Model: \"sequential\"\n",
      "_________________________________________________________________\n",
      "Layer (type)                 Output Shape              Param #   \n",
      "=================================================================\n",
      "conv2d (Conv2D)              (None, 43, 43, 16)        4112      \n",
      "_________________________________________________________________\n",
      "max_pooling2d (MaxPooling2D) (None, 21, 21, 16)        0         \n",
      "_________________________________________________________________\n",
      "conv2d_1 (Conv2D)            (None, 21, 21, 32)        131104    \n",
      "_________________________________________________________________\n",
      "max_pooling2d_1 (MaxPooling2 (None, 10, 10, 32)        0         \n",
      "_________________________________________________________________\n",
      "flatten (Flatten)            (None, 3200)              0         \n",
      "_________________________________________________________________\n",
      "dense (Dense)                (None, 256)               819456    \n",
      "_________________________________________________________________\n",
      "dropout (Dropout)            (None, 256)               0         \n",
      "_________________________________________________________________\n",
      "dense_1 (Dense)              (None, 32)                8224      \n",
      "_________________________________________________________________\n",
      "dropout_1 (Dropout)          (None, 32)                0         \n",
      "_________________________________________________________________\n",
      "dense_2 (Dense)              (None, 4)                 132       \n",
      "=================================================================\n",
      "Total params: 963,028\n",
      "Trainable params: 963,028\n",
      "Non-trainable params: 0\n",
      "_________________________________________________________________\n"
     ]
    }
   ],
   "source": [
    "#this model is as recomende from paper \"Mnih 2013, Playing Atari with Deep Reinforcement Learning\"\n",
    "keras.backend.clear_session()\n",
    "\n",
    "model=keras.Sequential([\n",
    "    keras.layers.Conv2D(16,8,strides=4,padding='valid',activation='relu',input_shape=[84,84,4]),\n",
    "    keras.layers.Conv2D(32,4,strides=2,padding='valid',activation='relu'),\n",
    "    keras.layers.Flatten(),\n",
    "    keras.layers.Dense(256,activation='relu'),\n",
    "    keras.layers.Dense(action_space)\n",
    "])\n",
    "model.summary()"
   ]
  },
  {
   "cell_type": "markdown",
   "metadata": {},
   "source": [
    "now we will use replay puffer to collect observation and return batch for training from the buffer by that we reducing the noise and make the learning process much faster using **GPU**"
   ]
  },
  {
   "cell_type": "code",
   "execution_count": 13,
   "metadata": {},
   "outputs": [],
   "source": [
    "# this represent the memory where we keep the last million state for training.\n",
    "replay_buffer=deque(maxlen=1000000)"
   ]
  },
  {
   "cell_type": "code",
   "execution_count": 25,
   "metadata": {},
   "outputs": [],
   "source": [
    "def sample_experiences(batch_size):\n",
    "    \"\"\"\n",
    "    This function is use to sample batch from our memory.\n",
    "    parameter : \n",
    "            -batch size: is numeber of example that provided to our network. \n",
    "    return:\n",
    "            -states:it's tensore [batch_size,image_width,image_height,stacked_size] in our case [32,84,84,4]\n",
    "            -actions: it's 2D array [batch_size,action] it's the action in each state in our batch\n",
    "            -rewards: it's 2D array [batch_size,reward] it's the reward in each state in out batch\n",
    "            -dones : it's 2D array [batch_size, done ] where done is boolean value help us to compute the target.\n",
    "            -next_state: it's tensore [batch_size,image_width,image_height,stacked_size] in our case [32,84,84,4]\n",
    "    \"\"\"\n",
    "    indices=np.random.randint(len(replay_buffer),size=batch_size)\n",
    "    batch=[replay_buffer[index] for index in indices]\n",
    "    states,actions,rewords,dones,next_states=[np.array([experiance[field_index] for experiance in batch]) for field_index in range(5)]\n",
    "    return states,actions,rewords,dones,next_states"
   ]
  },
  {
   "cell_type": "code",
   "execution_count": 26,
   "metadata": {},
   "outputs": [],
   "source": [
    "def epsilon_greedy_policy(state,epsilon):\n",
    "    \"\"\"\n",
    "    Is the epislon greedy policy whre we use epsilon value to chose an action\n",
    "    where we want to palance the exploration and explotation as possiable as we can.\n",
    "    \n",
    "    we pick random value alpha.\n",
    "        -if alpha < epsilon : chose random action\n",
    "         else argmax Q(state) for all action.\n",
    "    parameter :\n",
    "        -state: is the current state.\n",
    "        -epsilon : is the value of threshould between [0,1]\n",
    "    return :\n",
    "        the number of action to make \n",
    "    \n",
    "    \"\"\"\n",
    "    if np.random.rand()<epsilon:\n",
    "        return np.random.randint(action_space)\n",
    "    else:\n",
    "        Q_values=model.predict(state[np.newaxis])\n",
    "        return tf.argmax(Q_values[0])"
   ]
  },
  {
   "cell_type": "code",
   "execution_count": 1,
   "metadata": {},
   "outputs": [],
   "source": [
    "def play_one_step(env,state,epsilon):\n",
    "    \"\"\"\n",
    "    This function make an action and get the observation from the world.\n",
    "    we make an action and then get the full obesrvation from our environment aplay state_create function to the our \n",
    "    observation(frame) and then save it in the memory for training step.\n",
    "    \n",
    "    parameter :\n",
    "        -env: it's represent our world or environment we work on \n",
    "        -state : it's the current state.\n",
    "        -epsilon: it's the thresould we use for action selection\n",
    "    return :\n",
    "        next_state: tensore [84,84,4] block represent the last 4 frame.\n",
    "        reward : it's float number the reward we get after we do some action . \n",
    "        done : it's boolean refer if the game finish or not \n",
    "        info : it's dictionary have the counter of lives.\n",
    "    \"\"\"\n",
    "    action=epsilon_greedy_policy(state,epsilon)\n",
    "    next_state,reward,done,info=env.step(action)\n",
    "    if info['ale.lives']< 5:\n",
    "            done=True\n",
    "    stacked_next_state=state_creator(next_state,False,stacked_blocks)\n",
    "    replay_buffer.append((state,action,reward,done,stacked_next_state))\n",
    "    return stacked_next_state,reward,done,info"
   ]
  },
  {
   "cell_type": "code",
   "execution_count": 28,
   "metadata": {},
   "outputs": [],
   "source": [
    "loss_function=tf.losses.mean_squared_error\n",
    "optimizer=tf.optimizers.Adam(lr=0.00025)"
   ]
  },
  {
   "cell_type": "code",
   "execution_count": 29,
   "metadata": {},
   "outputs": [],
   "source": [
    "def training_step(batch_size,discount_factor):\n",
    "    \"\"\"\n",
    "    This function is the responsible for doing one training step where we sample one batch from the replay buffer \n",
    "    then we push this batch in our model for forward step and apply gradiant with optimizer by hand.\n",
    "    parameter :\n",
    "        -batch_size : the number of training example we sample\n",
    "        dicout_factor: this parameter is responsible for future rewards important it's value must be in range[0-1]\n",
    "    return :\n",
    "        None , where it's apply the change inplace for model parameter.\n",
    "    \"\"\"\n",
    "    states,actions,rewards,dones,next_states=sample_experiences(batch_size)\n",
    "    next_Q_values=model(next_states)\n",
    "    max_next_Q_values=np.max(next_Q_values,axis=1)\n",
    "    target_Q_values=rewards+(1-dones)*discount_factor*max_next_Q_values\n",
    "    \n",
    "    mask = tf.one_hot(actions, action_space)\n",
    "    \n",
    "    with tf.GradientTape() as tape:\n",
    "        all_Q_values=model(states)\n",
    "        Q_values=tf.reduce_sum(all_Q_values*mask,axis=1,keepdims=True)\n",
    "        loss=tf.reduce_mean(loss_function(target_Q_values,Q_values))\n",
    "    gradiants=tape.gradient(loss,model.trainable_variables)\n",
    "    optimizer.apply_gradients(zip(gradiants,model.trainable_variables))"
   ]
  },
  {
   "cell_type": "code",
   "execution_count": null,
   "metadata": {},
   "outputs": [],
   "source": [
    "episodes=700\n",
    "epsilon=1.0\n",
    "batch_size=5\n",
    "discount_factor=0.98\n",
    "\n",
    "for episode in tqdm.tqdm(range(episodes)):\n",
    "    state=environment.reset()\n",
    "    stacked_state=state_creator(state,True,stacked_blocks)\n",
    "    rewards=0\n",
    "    epsilon=max(1-episode/500,0.1)\n",
    "    while True:\n",
    "        stacked_state,reward,done=play_one_step(environment,stacked_state,epsilon)\n",
    "        rewards+=reward\n",
    "        if done:\n",
    "            if not (episode%10) :\n",
    "                print(rewards)\n",
    "            break\n",
    "            \n",
    "        if len(replay_buffer)>10:\n",
    "            training_step(batch_size,discount_factor)"
   ]
  },
  {
   "cell_type": "markdown",
   "metadata": {},
   "source": [
    "Now lets put all togather in one class "
   ]
  },
  {
   "cell_type": "code",
   "execution_count": null,
   "metadata": {},
   "outputs": [],
   "source": [
    "class DQN_Agent:\n",
    "    def __init__(self,environment,model,discount_factor=0.95,learning_rate=0.00025,episode=1000,batch_size=32,replay_size=1000000,staked_frame=4,fixed_epsilon=None,model_checkpoint='DQN_wights.h5',up=25,down=10,left=5,right=5):\n",
    "        #the environment simulator \n",
    "        self.env=environment\n",
    "        # the model we don't build the model and that give the developer space so he can change the structure of the model.\n",
    "        self.model=model\n",
    "        # the discout factor in the Q-learning algorithem\n",
    "        self.discount_factor=discount_factor\n",
    "        # the number of episod to run as the number of epochs in supervised learning \n",
    "        self.episodes=episode\n",
    "        \n",
    "        self.batch_size=batch_size\n",
    "        # the memory where we save the observations for training \n",
    "        self.replay_buffer=deque(maxlen=replay_size)\n",
    "        # the deque used for state creation where we stacked last 4 frames togather \n",
    "        self.stacked_blocks=deque(maxlen=staked_frame)\n",
    "        # if we want to stack more or less frame togather in other world if we want the state more complex or simpler.\n",
    "        self.stacked_size=staked_frame\n",
    "        # if we want the epsilon parameter constant during the training else the parameter will change during the training.\n",
    "        self.fixed_epsilon=fixed_epsilon\n",
    "        # the action space it's represent the number neuron in the output layer becouse Q function is maping from state to actions. \n",
    "        self.action_space=environment.action_space.n\n",
    "        # it's rewards list where we save the reward from each episod ( from each epochs )\n",
    "        self.rewards_list=[]\n",
    "        # the loss function using to compute the gradiant of the model.\n",
    "        self.loss_function=tf.losses.mean_squared_error\n",
    "        # the optimizer using to update the parameter.\n",
    "        self.optimizer=tf.optimizers.RMSprop(learning_rate=learning_rate,momentum=0.95)\n",
    "        # it's the file path, where we save the model weights\n",
    "        self.model_checkpoint=model_checkpoint\n",
    "        # these four parameter we use for croping the edges of the frame  \n",
    "        self.up=up\n",
    "        self.down=-down\n",
    "        self.left=left\n",
    "        self.right=-right\n",
    "        \n",
    "    \n",
    "    def _preprocess_frame(self,frame):\n",
    "        \"\"\"\n",
    "        this function make preprocessing step for each frame from the game.\n",
    "        parameter: \n",
    "            -frame: is a row frame with [210*64*3] size which provided by the environment, after we make an action that change the world\n",
    "            the environmnt brovide us by new observation after apply that action.\n",
    "        return :\n",
    "            image: processing frame where we cut some of border and keep the play area and change the image to gray scale \n",
    "            then resize it to [84,84] shape and finaly normalize pixel value to become in the range [0-1] \n",
    "        \"\"\"\n",
    "        # cut the porder and keep the play area\n",
    "        image=frame[self.up:self.down,self.left:self.right,:]\n",
    "        image=tf.image.rgb_to_grayscale(image)\n",
    "        image=tf.image.resize(image,[84,84])\n",
    "        # reshape becouse it's tensor [84,84,1] and we want [84,84] for make the stacking operation easy\n",
    "        image=tf.reshape(image,[84,84])\n",
    "        # normalizing step\n",
    "        image=image/255.0\n",
    "        return image\n",
    "    \n",
    "    def ploting_function_one(frame):\n",
    "        \"\"\"\n",
    "        is the same as preprocessing function but we use it for viualization stuf.\n",
    "        \"\"\"\n",
    "        image=frame[25:,:,:]\n",
    "        image=cv2.cvtColor(image,cv2.COLOR_RGB2GRAY)\n",
    "        image=cv2.resize(image,(85,85))\n",
    "        return image\n",
    "    \n",
    "    \n",
    "    def _state_creator(self,frame,is_new_episod):\n",
    "        \"\"\"\n",
    "        this function we stack last 4 frame togather to perform on state and that give us some intuition about vilocity.\n",
    "        parameter :\n",
    "            -frame :which is the game observation.\n",
    "            -is_new_episod: boolean parameter that check if there is no previous frame and that happend in bragning of each episod.\n",
    "        \n",
    "        return :\n",
    "            state: tensor with [84,84,4] shape which represent the state of our world.\n",
    "        \"\"\"\n",
    "        # first preprocessing the frame.\n",
    "        image=self._preprocess_frame(frame)\n",
    "        # if it's new episod then stack the first frame four time \n",
    "        if is_new_episod:\n",
    "            for i in range(self.stacked_size):\n",
    "                self.stacked_blocks.append(image)\n",
    "                \n",
    "        # just push the last frame so the first frame get out from the deque\n",
    "        else:\n",
    "            self.stacked_blocks.append(image)\n",
    "            \n",
    "        # stacked the frames togather in one tensor [84,84,4]\n",
    "        state=tf.stack(self.stacked_blocks,axis=2)\n",
    "        \n",
    "        return state\n",
    "    \n",
    "    def _sample_experiences(self):\n",
    "        \"\"\"\n",
    "        This function is use to sample batch from our memory.\n",
    "        \n",
    "        return:\n",
    "            -states:it's tensore [batch_size,image_width,image_height,stacked_size] in our case [32,84,84,4]\n",
    "            -actions: it's 2D array [batch_size,action] it's the action in each state in our batch\n",
    "            -rewards: it's 2D array [batch_size,reward] it's the reward in each state in out batch\n",
    "            -dones : it's 2D array [batch_size, done ] where done is boolean value help us to compute the target.\n",
    "            -next_state: it's tensore [batch_size,image_width,image_height,stacked_size] in our case [32,84,84,4]\n",
    "        \"\"\"\n",
    "        # radnom indices from the replay buffer\n",
    "        indices=np.random.randint(len(self.replay_buffer),size=self.batch_size)\n",
    "        batch=[self.replay_buffer[index] for index in indices]\n",
    "        # we combine the experiance togather where the buffer have tuple like this (state,action,reward,done,next_state)\n",
    "        states,actions,rewords,dones,next_states=[np.array([experiance[field_index] for experiance in batch]) for field_index in range(5)]\n",
    "        return states,actions,rewords,dones,next_states\n",
    "    \n",
    "    \n",
    "    def _epsilon_greedy_policy(self,state,epsilon):\n",
    "        \"\"\"\n",
    "        Is the epislon greedy policy whre we use epsilon value to chose an action\n",
    "        where we want to palance the exploration and explotation as possiable as we can.\n",
    "    \n",
    "        we pick random value alpha.\n",
    "            -if alpha < epsilon : chose random action\n",
    "             else argmax Q(state) for all action.\n",
    "        parameter :\n",
    "            -state: is the current state.\n",
    "            -epsilon : is the value of threshould between [0,1]\n",
    "        return :\n",
    "            the number of action to make \n",
    "    \n",
    "        \"\"\"\n",
    "        if np.random.rand()<epsilon:\n",
    "            return np.random.randint(self.action_space)\n",
    "        else:\n",
    "            Q_values=self.model.predict(state[np.newaxis])\n",
    "            return tf.argmax(Q_values[0])\n",
    "    \n",
    "    def _play_one_step(self,state,epsilon):\n",
    "         \"\"\"\n",
    "        This function make an action and get the observation from the world.\n",
    "        we make an action and then get the full obesrvation from our environment aplay state_create function to the our \n",
    "        observation(frame) and then save it in the memory for training step.\n",
    "    \n",
    "        parameter :\n",
    "            -state : it's the current state.\n",
    "            -epsilon: it's the thresould we use for action selection\n",
    "        return :\n",
    "            next_state: tensore [84,84,4] block represent the last 4 frame.\n",
    "            reward : it's float number the reward we get after we do some action . \n",
    "            done : it's boolean refer if the game finish or not \n",
    "            info : it's dictionary have the counter of lives.\n",
    "        \"\"\"\n",
    "          \n",
    "        action=self._epsilon_greedy_policy(state,epsilon)\n",
    "        next_state,reward,done,info=self.env.step(action)\n",
    "        # we do that becouse we need True done value for computing the target for the model.\n",
    "        if info['ale.lives']< 5:\n",
    "            done=True\n",
    "        stacked_next_state=self._state_creator(next_state,False)\n",
    "        self.replay_buffer.append((state,action,reward,done,stacked_next_state))\n",
    "        return stacked_next_state,reward,done,info\n",
    "    \n",
    "    def _training_step(self):\n",
    "        \"\"\"\n",
    "        This function is the responsible for doing one training step where we sample one batch from the replay buffer \n",
    "        then we push this batch in our model for forward step and apply gradiant with optimizer by hand.\n",
    "        \n",
    "        return :\n",
    "            None , where it's apply the change inplace for model parameter.\n",
    "        \"\"\"\n",
    "        # get the batch from the replay_buffer (our memory)\n",
    "        states,actions,rewards,dones,next_states=self._sample_experiences()\n",
    "        #the Q(state,a)=Q(state,a) + alpha [ reward + gamma * max (Q(next_state,a) for all a)-Q(s,a)] \n",
    "        next_Q_values=self.model.predict(next_states)\n",
    "        max_next_Q_values=np.max(next_Q_values,axis=1)\n",
    "        # compute the target which is [reward +  gamma * max(Q(next_state,a) over a)] \n",
    "        # (1-dones) hear refer for the last move (final state) in trajectory so it's should be just the immediat reward becouse there is no next state\n",
    "        target_Q_values=rewards+(1-dones)*self.discount_factor*max_next_Q_values\n",
    "        \n",
    "        #this mask it's important for vanishing the value of actions that we don't used it's 2D array with 1 if action i was picked and zero othewise.\n",
    "        mask = tf.one_hot(actions, self.action_space)\n",
    "\n",
    "        #start the gradient recording to compute the gradient for our model.\n",
    "        with tf.GradientTape() as tape:\n",
    "            #compute the Q function for state (hear for the whole batch).\n",
    "            all_Q_values=self.model(states)\n",
    "            #hear we use the mask so we reduce the result for just the action we picked.\n",
    "            Q_values=tf.reduce_sum(all_Q_values*mask,axis=1,keepdims=True)\n",
    "            #computer the loss function with the target we compute erlaier.\n",
    "            loss=tf.reduce_mean(self.loss_function(target_Q_values,Q_values))\n",
    "        # compute the gradient for our model parameter.\n",
    "        gradiants=tape.gradient(loss,self.model.trainable_variables)\n",
    "        # apply the optimization step using the gradient we compute \n",
    "        self.optimizer.apply_gradients(zip(gradiants,self.model.trainable_variables))\n",
    "        \n",
    "    def fit(self):\n",
    "        \"\"\"\n",
    "        This function represent the training loop function where we are trying to fit model to produce the best function\n",
    "        according to the data we have.\n",
    "        \n",
    "        \"\"\"\n",
    "        for episode in tqdm.tqdm(range(self.episodes)):\n",
    "            state=self.env.reset()\n",
    "            stacked_state=self._state_creator(state,True)\n",
    "            rewards=0\n",
    "            epsilon=max(1-episode/600,0.1)\n",
    "            while True:\n",
    "                stacked_state,reward,done,info=self._play_one_step(stacked_state,epsilon)\n",
    "                rewards+=reward\n",
    "                if done :\n",
    "                    if not (episode%10) and len(self.rewards_list):\n",
    "                        self.model.save_weights(self.model_checkpoint)\n",
    "                        print(\"The best score for last 10 episode is: {} and the worst one is: {}\".format(max(self.rewards_list[-10:]),min(self.rewards_list[-10:])))\n",
    "                    self.rewards_list.append(rewards)\n",
    "                    break\n",
    "                # this step to let the replay buffer has some experiance\n",
    "                if episode>50:\n",
    "                    self._training_step()"
   ]
  },
  {
   "cell_type": "code",
   "execution_count": null,
   "metadata": {},
   "outputs": [],
   "source": [
    "dqn=DQN_Agent(environment,model)\n",
    "dqn.fit()"
   ]
  }
 ],
 "metadata": {
  "kernelspec": {
   "display_name": "Python 3",
   "language": "python",
   "name": "python3"
  },
  "language_info": {
   "codemirror_mode": {
    "name": "ipython",
    "version": 3
   },
   "file_extension": ".py",
   "mimetype": "text/x-python",
   "name": "python",
   "nbconvert_exporter": "python",
   "pygments_lexer": "ipython3",
   "version": "3.9.2"
  }
 },
 "nbformat": 4,
 "nbformat_minor": 2
}
